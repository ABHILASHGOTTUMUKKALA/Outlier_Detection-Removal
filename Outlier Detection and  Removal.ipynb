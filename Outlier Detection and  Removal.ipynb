{
 "cells": [
  {
   "cell_type": "code",
   "execution_count": 1,
   "id": "afdccafd",
   "metadata": {
    "ExecuteTime": {
     "end_time": "2022-12-06T06:19:31.045379Z",
     "start_time": "2022-12-06T06:19:29.425759Z"
    }
   },
   "outputs": [],
   "source": [
    "import pandas as pd\n",
    "import numpy as np\n",
    "import seaborn as sns\n",
    "import matplotlib.pyplot as plt"
   ]
  },
  {
   "cell_type": "code",
   "execution_count": 2,
   "id": "d0747c22",
   "metadata": {
    "ExecuteTime": {
     "end_time": "2022-12-06T06:19:31.077213Z",
     "start_time": "2022-12-06T06:19:31.047450Z"
    }
   },
   "outputs": [],
   "source": [
    "df = pd.read_csv(r\"C:\\Users\\abhil\\Downloads\\archive (11)\\car_prices.csv\")"
   ]
  },
  {
   "cell_type": "code",
   "execution_count": 3,
   "id": "b5abb29d",
   "metadata": {
    "ExecuteTime": {
     "end_time": "2022-12-06T06:19:31.108224Z",
     "start_time": "2022-12-06T06:19:31.079218Z"
    }
   },
   "outputs": [
    {
     "data": {
      "text/html": [
       "<div>\n",
       "<style scoped>\n",
       "    .dataframe tbody tr th:only-of-type {\n",
       "        vertical-align: middle;\n",
       "    }\n",
       "\n",
       "    .dataframe tbody tr th {\n",
       "        vertical-align: top;\n",
       "    }\n",
       "\n",
       "    .dataframe thead th {\n",
       "        text-align: right;\n",
       "    }\n",
       "</style>\n",
       "<table border=\"1\" class=\"dataframe\">\n",
       "  <thead>\n",
       "    <tr style=\"text-align: right;\">\n",
       "      <th></th>\n",
       "      <th>car_id</th>\n",
       "      <th>price</th>\n",
       "      <th>fuel type</th>\n",
       "      <th>gear type</th>\n",
       "      <th>Make</th>\n",
       "      <th>Model</th>\n",
       "      <th>Year of manufacture</th>\n",
       "      <th>Colour</th>\n",
       "      <th>Condition</th>\n",
       "      <th>Mileage</th>\n",
       "      <th>Engine Size</th>\n",
       "      <th>Selling Condition</th>\n",
       "      <th>Bought Condition</th>\n",
       "      <th>car</th>\n",
       "      <th>Trim</th>\n",
       "      <th>Drivetrain</th>\n",
       "      <th>Seats</th>\n",
       "      <th>Number of Cylinders</th>\n",
       "      <th>Horse Power</th>\n",
       "      <th>Registered city</th>\n",
       "    </tr>\n",
       "  </thead>\n",
       "  <tbody>\n",
       "    <tr>\n",
       "      <th>0</th>\n",
       "      <td>icwAaDOmX573WiRRnLFPT237</td>\n",
       "      <td>2812500</td>\n",
       "      <td>Petrol</td>\n",
       "      <td>Automatic</td>\n",
       "      <td>Toyota</td>\n",
       "      <td>Corolla</td>\n",
       "      <td>2004</td>\n",
       "      <td>Silver</td>\n",
       "      <td>Nigerian Used</td>\n",
       "      <td>251732.0</td>\n",
       "      <td>1800.0</td>\n",
       "      <td>Registered</td>\n",
       "      <td>Registered</td>\n",
       "      <td>NaN</td>\n",
       "      <td>NaN</td>\n",
       "      <td>NaN</td>\n",
       "      <td>NaN</td>\n",
       "      <td>NaN</td>\n",
       "      <td>NaN</td>\n",
       "      <td>NaN</td>\n",
       "    </tr>\n",
       "    <tr>\n",
       "      <th>1</th>\n",
       "      <td>ByZ3NlPy2x0arAIyrKazClUS</td>\n",
       "      <td>5000000</td>\n",
       "      <td>Petrol</td>\n",
       "      <td>Automatic</td>\n",
       "      <td>Acura</td>\n",
       "      <td>MDX</td>\n",
       "      <td>2007</td>\n",
       "      <td>Green</td>\n",
       "      <td>Foreign Used</td>\n",
       "      <td>224589.0</td>\n",
       "      <td>3700.0</td>\n",
       "      <td>Imported</td>\n",
       "      <td>Imported</td>\n",
       "      <td>SUV</td>\n",
       "      <td>NaN</td>\n",
       "      <td>NaN</td>\n",
       "      <td>NaN</td>\n",
       "      <td>NaN</td>\n",
       "      <td>NaN</td>\n",
       "      <td>NaN</td>\n",
       "    </tr>\n",
       "    <tr>\n",
       "      <th>2</th>\n",
       "      <td>2zG6Mh3kwyoTvWoeKHkV1oFH</td>\n",
       "      <td>7592000</td>\n",
       "      <td>Petrol</td>\n",
       "      <td>Automatic</td>\n",
       "      <td>Acura</td>\n",
       "      <td>TL</td>\n",
       "      <td>2012</td>\n",
       "      <td>White</td>\n",
       "      <td>Foreign Used</td>\n",
       "      <td>111334.0</td>\n",
       "      <td>3500.0</td>\n",
       "      <td>Imported</td>\n",
       "      <td>Imported</td>\n",
       "      <td>Sedan</td>\n",
       "      <td>SH-AWD Automatic Tech Package</td>\n",
       "      <td>All Wheel</td>\n",
       "      <td>5.0</td>\n",
       "      <td>6.0</td>\n",
       "      <td>309.0</td>\n",
       "      <td>NaN</td>\n",
       "    </tr>\n",
       "    <tr>\n",
       "      <th>3</th>\n",
       "      <td>7APLHOPlI93qsYK0ST4D4wB2</td>\n",
       "      <td>9880000</td>\n",
       "      <td>Petrol</td>\n",
       "      <td>Automatic</td>\n",
       "      <td>Land Rover</td>\n",
       "      <td>Range Rover</td>\n",
       "      <td>2012</td>\n",
       "      <td>Gray</td>\n",
       "      <td>Nigerian Used</td>\n",
       "      <td>72682.0</td>\n",
       "      <td>4000.0</td>\n",
       "      <td>Registered</td>\n",
       "      <td>Imported</td>\n",
       "      <td>SUV</td>\n",
       "      <td>NaN</td>\n",
       "      <td>NaN</td>\n",
       "      <td>NaN</td>\n",
       "      <td>NaN</td>\n",
       "      <td>NaN</td>\n",
       "      <td>NaN</td>\n",
       "    </tr>\n",
       "    <tr>\n",
       "      <th>4</th>\n",
       "      <td>zIrIDPJLd46eRQf9JFacc0e</td>\n",
       "      <td>4160000</td>\n",
       "      <td>Petrol</td>\n",
       "      <td>Automatic</td>\n",
       "      <td>Ford</td>\n",
       "      <td>Edge</td>\n",
       "      <td>2013</td>\n",
       "      <td>Gray</td>\n",
       "      <td>Nigerian Used</td>\n",
       "      <td>92118.0</td>\n",
       "      <td>3500.0</td>\n",
       "      <td>Registered</td>\n",
       "      <td>Registered</td>\n",
       "      <td>SUV</td>\n",
       "      <td>NaN</td>\n",
       "      <td>NaN</td>\n",
       "      <td>NaN</td>\n",
       "      <td>NaN</td>\n",
       "      <td>NaN</td>\n",
       "      <td>Lagos</td>\n",
       "    </tr>\n",
       "  </tbody>\n",
       "</table>\n",
       "</div>"
      ],
      "text/plain": [
       "                     car_id    price fuel type  gear type        Make  \\\n",
       "0  icwAaDOmX573WiRRnLFPT237  2812500    Petrol  Automatic      Toyota   \n",
       "1  ByZ3NlPy2x0arAIyrKazClUS  5000000    Petrol  Automatic       Acura   \n",
       "2  2zG6Mh3kwyoTvWoeKHkV1oFH  7592000    Petrol  Automatic       Acura   \n",
       "3  7APLHOPlI93qsYK0ST4D4wB2  9880000    Petrol  Automatic  Land Rover   \n",
       "4   zIrIDPJLd46eRQf9JFacc0e  4160000    Petrol  Automatic        Ford   \n",
       "\n",
       "         Model  Year of manufacture  Colour      Condition   Mileage  \\\n",
       "0      Corolla                 2004  Silver  Nigerian Used  251732.0   \n",
       "1          MDX                 2007   Green   Foreign Used  224589.0   \n",
       "2           TL                 2012   White   Foreign Used  111334.0   \n",
       "3  Range Rover                 2012    Gray  Nigerian Used   72682.0   \n",
       "4         Edge                 2013    Gray  Nigerian Used   92118.0   \n",
       "\n",
       "   Engine Size Selling Condition Bought Condition    car  \\\n",
       "0       1800.0        Registered       Registered    NaN   \n",
       "1       3700.0          Imported         Imported    SUV   \n",
       "2       3500.0          Imported         Imported  Sedan   \n",
       "3       4000.0        Registered         Imported    SUV   \n",
       "4       3500.0        Registered       Registered    SUV   \n",
       "\n",
       "                            Trim Drivetrain  Seats  Number of Cylinders  \\\n",
       "0                            NaN        NaN    NaN                  NaN   \n",
       "1                            NaN        NaN    NaN                  NaN   \n",
       "2  SH-AWD Automatic Tech Package  All Wheel    5.0                  6.0   \n",
       "3                            NaN        NaN    NaN                  NaN   \n",
       "4                            NaN        NaN    NaN                  NaN   \n",
       "\n",
       "   Horse Power Registered city  \n",
       "0          NaN             NaN  \n",
       "1          NaN             NaN  \n",
       "2        309.0             NaN  \n",
       "3          NaN             NaN  \n",
       "4          NaN           Lagos  "
      ]
     },
     "execution_count": 3,
     "metadata": {},
     "output_type": "execute_result"
    }
   ],
   "source": [
    "df.head()"
   ]
  },
  {
   "cell_type": "code",
   "execution_count": 4,
   "id": "5f55fb27",
   "metadata": {
    "ExecuteTime": {
     "end_time": "2022-12-06T06:19:31.124229Z",
     "start_time": "2022-12-06T06:19:31.110225Z"
    }
   },
   "outputs": [
    {
     "data": {
      "text/plain": [
       "(3722, 20)"
      ]
     },
     "execution_count": 4,
     "metadata": {},
     "output_type": "execute_result"
    }
   ],
   "source": [
    "df.shape"
   ]
  },
  {
   "cell_type": "code",
   "execution_count": 5,
   "id": "42e943ab",
   "metadata": {
    "ExecuteTime": {
     "end_time": "2022-12-06T06:19:31.140232Z",
     "start_time": "2022-12-06T06:19:31.126229Z"
    }
   },
   "outputs": [],
   "source": [
    "df.fillna(method='ffill', inplace=True)"
   ]
  },
  {
   "cell_type": "code",
   "execution_count": 6,
   "id": "909b3d77",
   "metadata": {
    "ExecuteTime": {
     "end_time": "2022-12-06T06:19:31.172244Z",
     "start_time": "2022-12-06T06:19:31.142232Z"
    },
    "scrolled": false
   },
   "outputs": [
    {
     "data": {
      "text/plain": [
       "car_id                 0\n",
       "price                  0\n",
       "fuel type              0\n",
       "gear type              0\n",
       "Make                   0\n",
       "Model                  0\n",
       "Year of manufacture    0\n",
       "Colour                 0\n",
       "Condition              0\n",
       "Mileage                0\n",
       "Engine Size            0\n",
       "Selling Condition      0\n",
       "Bought Condition       0\n",
       "car                    1\n",
       "Trim                   2\n",
       "Drivetrain             2\n",
       "Seats                  2\n",
       "Number of Cylinders    2\n",
       "Horse Power            2\n",
       "Registered city        4\n",
       "dtype: int64"
      ]
     },
     "execution_count": 6,
     "metadata": {},
     "output_type": "execute_result"
    }
   ],
   "source": [
    "df.isnull().sum()"
   ]
  },
  {
   "cell_type": "code",
   "execution_count": 7,
   "id": "313b63ac",
   "metadata": {
    "ExecuteTime": {
     "end_time": "2022-12-06T06:19:31.188252Z",
     "start_time": "2022-12-06T06:19:31.174245Z"
    }
   },
   "outputs": [
    {
     "data": {
      "text/plain": [
       "car_id                  object\n",
       "price                    int64\n",
       "fuel type               object\n",
       "gear type               object\n",
       "Make                    object\n",
       "Model                   object\n",
       "Year of manufacture      int64\n",
       "Colour                  object\n",
       "Condition               object\n",
       "Mileage                float64\n",
       "Engine Size            float64\n",
       "Selling Condition       object\n",
       "Bought Condition        object\n",
       "car                     object\n",
       "Trim                    object\n",
       "Drivetrain              object\n",
       "Seats                  float64\n",
       "Number of Cylinders    float64\n",
       "Horse Power            float64\n",
       "Registered city         object\n",
       "dtype: object"
      ]
     },
     "execution_count": 7,
     "metadata": {},
     "output_type": "execute_result"
    }
   ],
   "source": [
    "df.dtypes"
   ]
  },
  {
   "cell_type": "code",
   "execution_count": 8,
   "id": "e5766ee9",
   "metadata": {
    "ExecuteTime": {
     "end_time": "2022-12-06T06:19:31.204256Z",
     "start_time": "2022-12-06T06:19:31.190253Z"
    }
   },
   "outputs": [],
   "source": [
    "df.dropna(inplace=True)"
   ]
  },
  {
   "cell_type": "code",
   "execution_count": 9,
   "id": "6c99e99f",
   "metadata": {
    "ExecuteTime": {
     "end_time": "2022-12-06T06:19:31.220263Z",
     "start_time": "2022-12-06T06:19:31.206256Z"
    }
   },
   "outputs": [
    {
     "data": {
      "text/plain": [
       "(3718, 20)"
      ]
     },
     "execution_count": 9,
     "metadata": {},
     "output_type": "execute_result"
    }
   ],
   "source": [
    "df.shape"
   ]
  },
  {
   "cell_type": "code",
   "execution_count": 27,
   "id": "1186b200",
   "metadata": {
    "ExecuteTime": {
     "end_time": "2022-12-06T06:19:56.705784Z",
     "start_time": "2022-12-06T06:19:56.696783Z"
    }
   },
   "outputs": [],
   "source": [
    "numeric = df.select_dtypes(include=[np.number])"
   ]
  },
  {
   "cell_type": "code",
   "execution_count": 11,
   "id": "106a0232",
   "metadata": {
    "ExecuteTime": {
     "end_time": "2022-12-06T06:19:31.251614Z",
     "start_time": "2022-12-06T06:19:31.237612Z"
    }
   },
   "outputs": [
    {
     "name": "stderr",
     "output_type": "stream",
     "text": [
      "C:\\Users\\abhil\\AppData\\Local\\Temp\\ipykernel_8484\\3179974459.py:1: FutureWarning: The default value of numeric_only in DataFrame.quantile is deprecated. In a future version, it will default to False. Select only valid columns or specify the value of numeric_only to silence this warning.\n",
      "  percentile25 = df.quantile(0.25)\n",
      "C:\\Users\\abhil\\AppData\\Local\\Temp\\ipykernel_8484\\3179974459.py:2: FutureWarning: The default value of numeric_only in DataFrame.quantile is deprecated. In a future version, it will default to False. Select only valid columns or specify the value of numeric_only to silence this warning.\n",
      "  percentile75 = df.quantile(0.75)\n"
     ]
    }
   ],
   "source": [
    "percentile25 = df.quantile(0.25)\n",
    "percentile75 = df.quantile(0.75)"
   ]
  },
  {
   "cell_type": "code",
   "execution_count": 12,
   "id": "66c1439a",
   "metadata": {
    "ExecuteTime": {
     "end_time": "2022-12-06T06:19:31.267617Z",
     "start_time": "2022-12-06T06:19:31.253615Z"
    },
    "scrolled": true
   },
   "outputs": [
    {
     "data": {
      "text/plain": [
       "price                  2310000.00\n",
       "Year of manufacture       2005.00\n",
       "Mileage                 117807.25\n",
       "Engine Size               2000.00\n",
       "Seats                        5.00\n",
       "Number of Cylinders          4.00\n",
       "Horse Power                158.00\n",
       "Name: 0.25, dtype: float64"
      ]
     },
     "execution_count": 12,
     "metadata": {},
     "output_type": "execute_result"
    }
   ],
   "source": [
    "percentile25"
   ]
  },
  {
   "cell_type": "code",
   "execution_count": 13,
   "id": "ab0fdcbe",
   "metadata": {
    "ExecuteTime": {
     "end_time": "2022-12-06T06:19:31.283235Z",
     "start_time": "2022-12-06T06:19:31.269619Z"
    }
   },
   "outputs": [
    {
     "data": {
      "text/plain": [
       "price                  5023750.00\n",
       "Year of manufacture       2011.00\n",
       "Mileage                 245309.25\n",
       "Engine Size               3500.00\n",
       "Seats                        5.00\n",
       "Number of Cylinders          6.00\n",
       "Horse Power                267.00\n",
       "Name: 0.75, dtype: float64"
      ]
     },
     "execution_count": 13,
     "metadata": {},
     "output_type": "execute_result"
    }
   ],
   "source": [
    "percentile75"
   ]
  },
  {
   "cell_type": "code",
   "execution_count": 14,
   "id": "2bc66b27",
   "metadata": {
    "ExecuteTime": {
     "end_time": "2022-12-06T06:19:31.298662Z",
     "start_time": "2022-12-06T06:19:31.285239Z"
    }
   },
   "outputs": [],
   "source": [
    "iqr = percentile75 - percentile25"
   ]
  },
  {
   "cell_type": "code",
   "execution_count": 15,
   "id": "1fda6890",
   "metadata": {
    "ExecuteTime": {
     "end_time": "2022-12-06T06:19:31.313744Z",
     "start_time": "2022-12-06T06:19:31.300667Z"
    },
    "scrolled": true
   },
   "outputs": [
    {
     "data": {
      "text/plain": [
       "price                  2713750.0\n",
       "Year of manufacture          6.0\n",
       "Mileage                 127502.0\n",
       "Engine Size               1500.0\n",
       "Seats                        0.0\n",
       "Number of Cylinders          2.0\n",
       "Horse Power                109.0\n",
       "dtype: float64"
      ]
     },
     "execution_count": 15,
     "metadata": {},
     "output_type": "execute_result"
    }
   ],
   "source": [
    "iqr"
   ]
  },
  {
   "cell_type": "code",
   "execution_count": 16,
   "id": "90f515ed",
   "metadata": {
    "ExecuteTime": {
     "end_time": "2022-12-06T06:19:31.329248Z",
     "start_time": "2022-12-06T06:19:31.315751Z"
    }
   },
   "outputs": [],
   "source": [
    "upper_limit = percentile75 + 1.5 * iqr\n",
    "lower_limit = percentile25 - 1.5 * iqr"
   ]
  },
  {
   "cell_type": "code",
   "execution_count": 17,
   "id": "2de85759",
   "metadata": {
    "ExecuteTime": {
     "end_time": "2022-12-06T06:19:31.345003Z",
     "start_time": "2022-12-06T06:19:31.331252Z"
    },
    "scrolled": true
   },
   "outputs": [
    {
     "name": "stdout",
     "output_type": "stream",
     "text": [
      "Upper limit price                  9094375.00\n",
      "Year of manufacture       2020.00\n",
      "Mileage                 436562.25\n",
      "Engine Size               5750.00\n",
      "Seats                        5.00\n",
      "Number of Cylinders          9.00\n",
      "Horse Power                430.50\n",
      "dtype: float64\n",
      "Lower limit price                 -1760625.00\n",
      "Year of manufacture       1996.00\n",
      "Mileage                 -73445.75\n",
      "Engine Size               -250.00\n",
      "Seats                        5.00\n",
      "Number of Cylinders          1.00\n",
      "Horse Power                 -5.50\n",
      "dtype: float64\n"
     ]
    }
   ],
   "source": [
    "print(\"Upper limit\",upper_limit)\n",
    "print(\"Lower limit\",lower_limit)"
   ]
  },
  {
   "cell_type": "code",
   "execution_count": 18,
   "id": "4722421f",
   "metadata": {
    "ExecuteTime": {
     "end_time": "2022-12-06T06:19:31.377011Z",
     "start_time": "2022-12-06T06:19:31.347004Z"
    },
    "scrolled": false
   },
   "outputs": [
    {
     "name": "stderr",
     "output_type": "stream",
     "text": [
      "C:\\Users\\abhil\\AppData\\Local\\Temp\\ipykernel_8484\\1967482013.py:1: FutureWarning: Automatic reindexing on DataFrame vs Series comparisons is deprecated and will raise ValueError in a future version. Do `left, right = left.align(right, axis=1, copy=False)` before e.g. `left == right`\n",
      "  df[df>upper_limit].count()\n"
     ]
    },
    {
     "data": {
      "text/plain": [
       "car_id                   0\n",
       "price                  306\n",
       "fuel type                0\n",
       "gear type                0\n",
       "Make                     0\n",
       "Model                    0\n",
       "Year of manufacture      2\n",
       "Colour                   0\n",
       "Condition                0\n",
       "Mileage                 90\n",
       "Engine Size            109\n",
       "Selling Condition        0\n",
       "Bought Condition         0\n",
       "car                      0\n",
       "Trim                     0\n",
       "Drivetrain               0\n",
       "Seats                  577\n",
       "Number of Cylinders      0\n",
       "Horse Power             31\n",
       "Registered city          0\n",
       "dtype: int64"
      ]
     },
     "execution_count": 18,
     "metadata": {},
     "output_type": "execute_result"
    }
   ],
   "source": [
    "df[df>upper_limit].count()"
   ]
  },
  {
   "cell_type": "code",
   "execution_count": 19,
   "id": "40961c24",
   "metadata": {
    "ExecuteTime": {
     "end_time": "2022-12-06T06:19:31.409035Z",
     "start_time": "2022-12-06T06:19:31.379028Z"
    },
    "scrolled": false
   },
   "outputs": [
    {
     "name": "stderr",
     "output_type": "stream",
     "text": [
      "C:\\Users\\abhil\\AppData\\Local\\Temp\\ipykernel_8484\\581395951.py:1: FutureWarning: Automatic reindexing on DataFrame vs Series comparisons is deprecated and will raise ValueError in a future version. Do `left, right = left.align(right, axis=1, copy=False)` before e.g. `left == right`\n",
      "  df[df<lower_limit].count()\n"
     ]
    },
    {
     "data": {
      "text/plain": [
       "car_id                  0\n",
       "price                   0\n",
       "fuel type               0\n",
       "gear type               0\n",
       "Make                    0\n",
       "Model                   0\n",
       "Year of manufacture    14\n",
       "Colour                  0\n",
       "Condition               0\n",
       "Mileage                 0\n",
       "Engine Size             0\n",
       "Selling Condition       0\n",
       "Bought Condition        0\n",
       "car                     0\n",
       "Trim                    0\n",
       "Drivetrain              0\n",
       "Seats                  67\n",
       "Number of Cylinders     0\n",
       "Horse Power             0\n",
       "Registered city         0\n",
       "dtype: int64"
      ]
     },
     "execution_count": 19,
     "metadata": {},
     "output_type": "execute_result"
    }
   ],
   "source": [
    "df[df<lower_limit].count()"
   ]
  },
  {
   "cell_type": "code",
   "execution_count": 20,
   "id": "f80b6b3e",
   "metadata": {
    "ExecuteTime": {
     "end_time": "2022-12-06T06:19:31.425040Z",
     "start_time": "2022-12-06T06:19:31.411040Z"
    }
   },
   "outputs": [],
   "source": [
    "df.reset_index(inplace=True)"
   ]
  },
  {
   "cell_type": "code",
   "execution_count": 21,
   "id": "d5fca888",
   "metadata": {
    "ExecuteTime": {
     "end_time": "2022-12-06T06:19:31.441047Z",
     "start_time": "2022-12-06T06:19:31.427040Z"
    }
   },
   "outputs": [],
   "source": [
    "new_df_cap = df.copy()\n",
    "\n",
    "new_df_cap['price'] = np.where(\n",
    "    new_df_cap['price'] > upper_limit['price'],\n",
    "    upper_limit['price'],\n",
    "    np.where(\n",
    "        new_df_cap['price'] < lower_limit['price'],\n",
    "        lower_limit['price'],\n",
    "        new_df_cap['price']\n",
    "    )\n",
    ")\n"
   ]
  },
  {
   "cell_type": "code",
   "execution_count": 22,
   "id": "daf57cf6",
   "metadata": {
    "ExecuteTime": {
     "end_time": "2022-12-06T06:19:31.553073Z",
     "start_time": "2022-12-06T06:19:31.443047Z"
    },
    "scrolled": true
   },
   "outputs": [
    {
     "data": {
      "image/png": "[encoded data removed]",
      "text/plain": [
       "<Figure size 640x480 with 1 Axes>"
      ]
     },
     "metadata": {},
     "output_type": "display_data"
    }
   ],
   "source": [
    "plt.boxplot(new_df_cap['price'])\n",
    "plt.show()"
   ]
  },
  {
   "cell_type": "code",
   "execution_count": 23,
   "id": "03963c03",
   "metadata": {
    "ExecuteTime": {
     "end_time": "2022-12-06T06:19:31.569192Z",
     "start_time": "2022-12-06T06:19:31.555074Z"
    }
   },
   "outputs": [],
   "source": [
    "new_df_cap['Mileage'] = np.where(\n",
    "    new_df_cap['Mileage'] > upper_limit['Mileage'],\n",
    "    upper_limit['Mileage'],\n",
    "    np.where(\n",
    "        new_df_cap['Mileage'] < lower_limit['Mileage'],\n",
    "        lower_limit['Mileage'],\n",
    "        new_df_cap['Mileage']\n",
    "    )\n",
    ")\n",
    "\n",
    "new_df_cap['Engine Size'] = np.where(\n",
    "    new_df_cap['Engine Size'] > upper_limit['Engine Size'],\n",
    "    upper_limit['Engine Size'],\n",
    "    np.where(\n",
    "        new_df_cap['Engine Size'] < lower_limit['Engine Size'],\n",
    "        lower_limit['Engine Size'],\n",
    "        new_df_cap['Engine Size']\n",
    "    )\n",
    ")\n",
    "new_df_cap['Seats'] = np.where(\n",
    "    new_df_cap['Seats'] > upper_limit['Seats'],\n",
    "    upper_limit['Seats'],\n",
    "    np.where(\n",
    "        new_df_cap['Seats'] < lower_limit['Seats'],\n",
    "        lower_limit['Seats'],\n",
    "        new_df_cap['Seats']\n",
    "    )\n",
    ")\n",
    "new_df_cap['Horse Power'] = np.where(\n",
    "    new_df_cap['Horse Power'] > upper_limit['Horse Power'],\n",
    "    upper_limit['Horse Power'],\n",
    "    np.where(\n",
    "        new_df_cap['Horse Power'] < lower_limit['Horse Power'],\n",
    "        lower_limit['Horse Power'],\n",
    "        new_df_cap['Horse Power']\n",
    "    )\n",
    ")\n",
    "new_df_cap['Year of manufacture'] = np.where(\n",
    "    new_df_cap['Year of manufacture'] > upper_limit['Year of manufacture'],\n",
    "    upper_limit['Year of manufacture'],\n",
    "    np.where(\n",
    "        new_df_cap['Year of manufacture'] < lower_limit['Year of manufacture'],\n",
    "        lower_limit['Year of manufacture'],\n",
    "        new_df_cap['Year of manufacture']\n",
    "    )\n",
    ")"
   ]
  },
  {
   "cell_type": "code",
   "execution_count": 26,
   "id": "73c33947",
   "metadata": {
    "ExecuteTime": {
     "end_time": "2022-12-06T06:19:47.445581Z",
     "start_time": "2022-12-06T06:19:47.440579Z"
    }
   },
   "outputs": [],
   "source": [
    "numeric1 = new_df_cap.select_dtypes(include=[np.number])"
   ]
  },
  {
   "cell_type": "code",
   "execution_count": 34,
   "id": "063aef41",
   "metadata": {
    "ExecuteTime": {
     "end_time": "2022-12-06T06:23:12.041742Z",
     "start_time": "2022-12-06T06:23:11.843623Z"
    }
   },
   "outputs": [
    {
     "data": {
      "image/png": "[encoded data removed]",
      "text/plain": [
       "<Figure size 1500x1000 with 1 Axes>"
      ]
     },
     "metadata": {},
     "output_type": "display_data"
    }
   ],
   "source": [
    "plt.figure(figsize=(15, 10))\n",
    "labels = numeric.columns\n",
    "plt.boxplot(numeric, labels=labels)\n",
    "plt.show()"
   ]
  },
  {
   "cell_type": "code",
   "execution_count": 36,
   "id": "b686d217",
   "metadata": {
    "ExecuteTime": {
     "end_time": "2022-12-06T06:24:01.124745Z",
     "start_time": "2022-12-06T06:24:00.939485Z"
    }
   },
   "outputs": [
    {
     "data": {
      "image/png": "[encoded data removed]",
      "text/plain": [
       "<Figure size 1500x1000 with 1 Axes>"
      ]
     },
     "metadata": {},
     "output_type": "display_data"
    }
   ],
   "source": [
    "plt.figure(figsize=(15, 10))\n",
    "labels = numeric1.columns           \n",
    "plt.boxplot(numeric1, labels=labels)\n",
    "plt.show()"
   ]
  },
  {
   "cell_type": "code",
   "execution_count": null,
   "id": "0feea9fe",
   "metadata": {},
   "outputs": [],
   "source": []
  }
 ],
 "metadata": {
  "kernelspec": {
   "display_name": "Python 3 (ipykernel)",
   "language": "python",
   "name": "python3"
  },
  "language_info": {
   "codemirror_mode": {
    "name": "ipython",
    "version": 3
   },
   "file_extension": ".py",
   "mimetype": "text/x-python",
   "name": "python",
   "nbconvert_exporter": "python",
   "pygments_lexer": "ipython3",
   "version": "3.10.4"
  }
 },
 "nbformat": 4,
 "nbformat_minor": 5
}
